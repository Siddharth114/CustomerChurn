{
 "cells": [
  {
   "cell_type": "markdown",
   "metadata": {},
   "source": [
    "## Dropping certain categorical columns"
   ]
  },
  {
   "cell_type": "code",
   "execution_count": null,
   "metadata": {
    "vscode": {
     "languageId": "plaintext"
    }
   },
   "outputs": [],
   "source": [
    "df=df.drop(['MultipleLines', 'InternetService', 'OnlineSecurity', 'OnlineBackup', 'DeviceProtection', 'TechSupport',\n",
    "       'StreamingTV', 'StreamingMovies', 'PaymentMethod', 'Contract','customerID'], axis=1)\n",
    "df.head()\n",
    "df.loc[df['gender']=='Male', 'gender']=1\n",
    "df.loc[df['gender']=='Female', 'gender']=0\n",
    "\n",
    "df.loc[df['Partner']=='Yes', 'Partner']=1\n",
    "df.loc[df['Partner']=='No', 'Partner']=0\n",
    "\n",
    "df.loc[df['Dependents']=='Yes', 'Dependents']=1\n",
    "df.loc[df['Dependents']=='No', 'Dependents']=0\n",
    "\n",
    "df.loc[df['PhoneService']=='Yes', 'PhoneService']=1\n",
    "df.loc[df['PhoneService']=='No', 'PhoneService']=0\n",
    "\n",
    "df.loc[df['PaperlessBilling']=='Yes', 'PaperlessBilling']=1\n",
    "df.loc[df['PaperlessBilling']=='No', 'PaperlessBilling']=0\n",
    "\n",
    "ind = df[df['TotalCharges']==' '].index\n",
    "df.drop(ind , inplace=True)\n",
    "\n",
    "df.loc[df['Churn']=='Yes', 'Churn']=1\n",
    "df.loc[df['Churn']=='No', 'Churn']=0\n",
    "\n",
    "df.head()\n",
    "df=df.apply(pd.to_numeric)\n",
    "df.dtypes\n",
    "df.corr()\n",
    "corr=df.corr()\n",
    "mask = np.triu(np.ones_like(corr, dtype=bool))\n",
    "\n",
    "cmap = sns.diverging_palette(230, 20, as_cmap=True)\n",
    "\n",
    "dataplot = sns.heatmap(corr, cmap=cmap, mask=mask)\n",
    "g = sns.PairGrid(df)\n",
    "g.map(sns.scatterplot)\n",
    "plt.show()\n",
    "from sklearn.model_selection import train_test_split\n",
    "train, test = train_test_split(df, test_size=.2)\n",
    "## Linear Regression model\n",
    "train_predictors = train.drop(['Churn'], axis=1)\n",
    "train_target = train.drop(list(train_predictors), axis=1)\n",
    "\n",
    "test_predictors = test.drop(['Churn'], axis=1)\n",
    "test_target = test.drop(list(test_predictors), axis=1)\n",
    "\n",
    "print(train_predictors.head())\n",
    "print(train_target.head())\n",
    "from sklearn.linear_model import LinearRegression\n",
    "lr=LinearRegression()\n",
    "lr.fit(train_predictors, train_target)\n",
    "\n",
    "train_predictions = lr.predict(train_predictors)\n",
    "train_predictions\n",
    "from sklearn import metrics\n",
    "print(np.sqrt(metrics.mean_squared_error(train_target, train_predictions)))\n",
    "print(metrics.r2_score(train_target, train_predictions))\n",
    "print(metrics.mean_absolute_error(train_target, train_predictions))"
   ]
  }
 ],
 "metadata": {
  "language_info": {
   "name": "python"
  },
  "orig_nbformat": 4
 },
 "nbformat": 4,
 "nbformat_minor": 2
}
